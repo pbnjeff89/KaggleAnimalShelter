{
 "cells": [
  {
   "cell_type": "markdown",
   "metadata": {},
   "source": [
    "# Initial procedures\n",
    "\n",
    "To outline what I did here, I combined the training and testing sets in order to guarantee that whatever automatically-generated features I obtain are trained by the model and will work in predicting (possibly or not possibly well) for the testing set. In a more math-y way of speaking, I'm making sure that the basis vectors are consistent.\n",
    "\n",
    "I separated out and created a lot of features here. I'm guessing that there probably is a much more efficient way of doing all of this, but I think that in order to explain the model well, it's best if I have more control over what I think is important (and later on, I will be verifying that it is or is not important for the model).\n",
    "\n",
    "There's a very trivial procedure to decompose the combined set (the very last lines)."
   ]
  },
  {
   "cell_type": "code",
   "execution_count": 115,
   "metadata": {
    "collapsed": false
   },
   "outputs": [],
   "source": [
    "%matplotlib inline\n",
    "\n",
    "import pandas as pd\n",
    "from matplotlib import pyplot as plt\n",
    "import numpy as np\n",
    "import os\n",
    "\n",
    "from sklearn.ensemble import RandomForestRegressor\n",
    "from sklearn.ensemble import RandomForestClassifier\n",
    "\n",
    "folder_path = '/home/pbnjeff/Dropbox/KaggleAnimalShelter/'\n",
    "combined_cleaned_path = '/home/pbnjeff/Dropbox/KaggleAnimalShelter/combined_cleaned.csv'\n",
    "\n",
    "\n",
    "train = pd.read_csv(folder_path + \"train.csv\", encoding='utf-8')\n",
    "test = pd.read_csv(folder_path + \"test.csv\", encoding='utf-8')\n",
    "\n",
    "test = test.rename(columns={'ID':'AnimalID'})"
   ]
  },
  {
   "cell_type": "code",
   "execution_count": 116,
   "metadata": {
    "collapsed": true
   },
   "outputs": [],
   "source": [
    "def sexGenitalFeatures(df):\n",
    "    \n",
    "    # Separate out the sex and if the animal's genitals are intact\n",
    "    df['Male'] = ((df['SexuponOutcome'] == u'Intact Male') | (df['SexuponOutcome'] == u'Neutered Male')).astype(int)\n",
    "    df['NeuteredSpayed'] = ((df['SexuponOutcome'] == u'Spayed Female') | (df['SexuponOutcome'] == u'Neutered Male')).astype(int)\n",
    "    df['SexuponOutcomeKnown'] = (~df['SexuponOutcome'].isnull()).astype(int)\n",
    "    df = df.drop('SexuponOutcome',1)\n",
    "    \n",
    "    return df"
   ]
  },
  {
   "cell_type": "code",
   "execution_count": 117,
   "metadata": {
    "collapsed": true
   },
   "outputs": [],
   "source": [
    "def dogOrNah(df):\n",
    "\n",
    "    # Determine if the animal is a dog or not\n",
    "    df['Dog'] = (df['AnimalType'] == u'Dog').astype(int)\n",
    "    df = df.drop('AnimalType',1)\n",
    "\n",
    "    return df"
   ]
  },
  {
   "cell_type": "code",
   "execution_count": 118,
   "metadata": {
    "collapsed": true
   },
   "outputs": [],
   "source": [
    "def timeFeatures(df):\n",
    "    \n",
    "    # Transform each animal's age into a more standard form\n",
    "    # Note: 99999 indicates an unknown age. I deal with this later\n",
    "    # by using a RandomForestRegressor to predict what age an\n",
    "    # animal should be\n",
    "    \n",
    "    (df['Age (Weeks)'],df['Units']) = (df['AgeuponOutcome'].str.split(' ', expand=True)[0],\n",
    "                               df['AgeuponOutcome'].str.split(' ', expand=True)[1])\n",
    "    df.loc[df['Age (Weeks)'].isnull(),'Age (Weeks)'] = 99999\n",
    "    df['Age (Weeks)'] = df['Age (Weeks)'].astype(int)\n",
    "    df.loc[df['Units'] == 'years','Units'] = 'year'\n",
    "    df.loc[df['Units'] == 'months','Units'] = 'month'\n",
    "    df.loc[df['Units'] == 'weeks','Units'] = 'week'\n",
    "    df.loc[df['Units'] == 'year','Age (Weeks)'] = df.loc[df['Units'] == 'year','Age (Weeks)'] * 52\n",
    "    df.loc[df['Units'] == 'month','Age (Weeks)'] = df.loc[df['Units'] == 'month','Age (Weeks)'] * 4\n",
    "    df = df.drop(['AgeuponOutcome','Units'],1)\n",
    "\n",
    "    # New feature: neutered young (less than ~1 year of age)\n",
    "    # df['NeuteredYoung'] = (df['Age (Weeks)'].astype(int) < 53 & df['NeuteredSpayed'])\n",
    "    \n",
    "    # Separate out the date/time into its individual components\n",
    "    df['DateTime'] = pd.to_datetime(df['DateTime'])\n",
    "    # df['YearOutcome'] = df['DateTime'].dt.year\n",
    "    # df['MonthOutcome'] = df['DateTime'].dt.month\n",
    "    # df['DayOfWeekOutcome'] = df['DateTime'].dt.dayofweek\n",
    "    df = df.drop('DateTime',1)\n",
    "\n",
    "    return df\n",
    "    "
   ]
  },
  {
   "cell_type": "code",
   "execution_count": 119,
   "metadata": {
    "collapsed": true
   },
   "outputs": [],
   "source": [
    "def nameFeatures(df):\n",
    "    \n",
    "    # Features from names\n",
    "    df['HasName'] = (~df['Name'].isnull()).astype(int)\n",
    "    df = df.drop('Name',axis=1)\n",
    "\n",
    "    return df\n",
    "  "
   ]
  },
  {
   "cell_type": "code",
   "execution_count": 120,
   "metadata": {
    "collapsed": true
   },
   "outputs": [],
   "source": [
    " \n",
    "def colorFeatures(df):\n",
    "    \n",
    "    # Features from colors\n",
    "    color_list = []\n",
    "    #for color in df['Color'].unique():\n",
    "    #    new_colors = color.split('/')\n",
    "    #    for new_color in new_colors:\n",
    "    #        new_color_list = new_color.split(' ')\n",
    "    #        for identifier in new_color_list:\n",
    "    #            if str(identifier) not in color_list:\n",
    "    #                color_list.append(str(identifier))\n",
    "    #for color in color_list:\n",
    "    #    df[str(color)] = df['Color'].str.contains(color)\n",
    "    df = df.drop('Color', axis=1)\n",
    "\n",
    "    return df"
   ]
  },
  {
   "cell_type": "code",
   "execution_count": 121,
   "metadata": {
    "collapsed": true
   },
   "outputs": [],
   "source": [
    "def breedFeatures(df):\n",
    "    \n",
    "    # There were so many breeds, so I tried my best to categorize based on\n",
    "    # what seemed to be popular and recognizable breeds. Later, I think\n",
    "    # this could be improved by looking a bit more at histograms of these\n",
    "    # various categorizations I created, and more\n",
    "    #df['Mixed'] = (df['Breed'].str.contains('Mix') |\n",
    "    #               df['Breed'].str.contains('/'))\n",
    "    #df['Breed'] = df['Breed'].str.rstrip('Mix').str.rstrip()\n",
    "    #df['PitBull'] = df['Breed'].str.contains('Pit Bull')\n",
    "    #df['Terrier'] = df['Breed'].str.contains('Terrier')\n",
    "    #df['Mini'] = df['Breed'].str.contains('Miniature')\n",
    "    #df['Corgi'] = df['Breed'].str.contains('Corgi')\n",
    "    #df['Retriever'] = df['Breed'].str.contains('Retriever')\n",
    "    #df['Hound'] = df['Breed'].str.contains('Hound')\n",
    "    #df['Husky'] = df['Breed'].str.contains('Husky')\n",
    "    #df['Beagle'] = df['Breed'].str.contains('Beagle')\n",
    "    #df['Chihuahua'] = df['Breed'].str.contains('Chichuahua')\n",
    "    #df['Bulldog'] = df['Breed'].str.contains('Bulldog')\n",
    "    #df['ShireDog'] = df['Breed'].str.contains('shire')\n",
    "    #df['GreatPyrenees'] = df['Breed'].str.contains('Great Pyrenees')\n",
    "    #df['Shepherd'] = df['Breed'].str.contains('Shepherd')\n",
    "    #df['Dachshund'] = df['Breed'].str.contains('Dachshund')\n",
    "    #df['Rottweiler'] = df['Breed'].str.contains('Rottweiler')\n",
    "    #df['CatMixed'] = (df['Breed'].str.contains('Domestic Shorthair') |\n",
    "    #                 df['Breed'].str.contains('Domestic Longhair') |\n",
    "    #                 df['Breed'].str.contains('Domestic Medium Hair'))\n",
    "    #df['ExoticForeignCat'] = ( (df['Dog'] == False) & \n",
    "    #                   ( df['Breed'].str.contains('Siamese') |\n",
    "    #                    df['Breed'].str.contains('Himalayan') |\n",
    "    #                    df['Breed'].str.contains('Persian') |\n",
    "    #                    df['Breed'].str.contains('Angora') |\n",
    "    #                    df['Breed'].str.contains('Bombay') |\n",
    "    #                    df['Breed'].str.contains('Japanese') |\n",
    "    #                    df['Breed'].str.contains('Bengal') |\n",
    "    #                    df['Breed'].str.contains('Cymric') |\n",
    "    #                    df['Breed'].str.contains('Abyssinian') |\n",
    "    #                    df['Breed'].str.contains('Sphynx') |\n",
    "    #                    df['Breed'].str.contains('Javanese') |\n",
    "    #                    df['Breed'].str.contains('Turkish') |\n",
    "    #                    df['Breed'].str.contains('Chartreaux') |\n",
    "    #                    df['Breed'].str.contains('Norwegian') |\n",
    "    #                    df['Breed'].str.contains('Russian') ) )\n",
    "    #df['MaineCoon'] = df['Breed'].str.contains('Maine Coon')\n",
    "    #df['Shorthair'] = df['Breed'].str.contains('Shorthair')\n",
    "    #df['Longhair'] = df['Breed'].str.contains('Longhair')\n",
    "    #df['Ragdoll'] = df['Breed'].str.contains('Ragdoll')\n",
    "    #df['American'] = df['Breed'].str.contains('American')\n",
    "    #df['Australian'] = df['Breed'].str.contains('Australian')\n",
    "    #df['German'] = df['Breed'].str.contains('German')\n",
    "    #df['Japanese'] = df['Breed'].str.contains('Japanese')\n",
    "    #df['Munchkin'] = df['Breed'].str.contains('Munchkin')\n",
    "    #df['RexCat'] = df['Breed'].str.contains('Rex')\n",
    "    #df['ColdWeather'] = (df['Breed'].str.contains('Siberian') |\n",
    "    #                     df['Breed'].str.contains('Russian') |\n",
    "    #                     df['Breed'].str.contains('Longhair') |\n",
    "    #                     df['Breed'].str.contains('Norwegian'))\n",
    "    df = df.drop('Breed',axis=1)\n",
    "\n",
    "    return df"
   ]
  },
  {
   "cell_type": "code",
   "execution_count": 122,
   "metadata": {
    "collapsed": false,
    "scrolled": true
   },
   "outputs": [],
   "source": [
    "combined = train.append(test)\n",
    "\n",
    "combined = sexGenitalFeatures(combined)\n",
    "combined = dogOrNah(combined)\n",
    "combined = timeFeatures(combined)\n",
    "combined = nameFeatures(combined)\n",
    "combined = colorFeatures(combined)\n",
    "combined = breedFeatures(combined)\n",
    "\n",
    "if 'OutcomeSubtype' in combined.columns:\n",
    "    combined = combined.drop('OutcomeSubtype', axis = 1)"
   ]
  },
  {
   "cell_type": "code",
   "execution_count": 163,
   "metadata": {
    "collapsed": true
   },
   "outputs": [],
   "source": [
    "train_clean = combined[~combined['OutcomeType'].isnull()]\n",
    "test_clean = combined[combined['OutcomeType'].isnull()]"
   ]
  },
  {
   "cell_type": "code",
   "execution_count": 156,
   "metadata": {
    "collapsed": false
   },
   "outputs": [],
   "source": [
    "def fillMissingAges(df):\n",
    "    \n",
    "    '''\n",
    "    df is a pandas DataFrame object which contains\n",
    "    only the columns with the relevant X and y\n",
    "    matrix elements\n",
    "    '''\n",
    "    \n",
    "    known = df[df['Age (Weeks)'] < 99999]\n",
    "    unknown = df[df['Age (Weeks)'] == 99999]\n",
    "    \n",
    "    rf = RandomForestRegressor(n_estimators=250, max_depth=None, min_samples_split=1)\n",
    "    \n",
    "    \n",
    "        \n",
    "    train_X = known.drop(['OutcomeType','Age (Weeks)','AnimalID'], axis = 1)\n",
    "    train_y = pd.DataFrame(known['Age (Weeks)'])\n",
    "    \n",
    "    rf.fit(train_X, train_y)\n",
    "    \n",
    "    for index, row in unknown.iterrows():\n",
    "        \n",
    "        predict_X = row.drop(['OutcomeType','AnimalID','Age (Weeks)'])\n",
    "        df.loc[index, 'Age (Weeks)'] = rf.predict(predict_X.reshape(1, -1))\n",
    "    \n",
    "    return df"
   ]
  },
  {
   "cell_type": "code",
   "execution_count": 164,
   "metadata": {
    "collapsed": false,
    "scrolled": true
   },
   "outputs": [
    {
     "name": "stderr",
     "output_type": "stream",
     "text": [
      "/usr/local/lib/python2.7/dist-packages/ipykernel/__main__.py:19: DataConversionWarning: A column-vector y was passed when a 1d array was expected. Please change the shape of y to (n_samples,), for example using ravel().\n"
     ]
    }
   ],
   "source": [
    "train_clean = fillMissingAges(train_clean)"
   ]
  },
  {
   "cell_type": "code",
   "execution_count": 165,
   "metadata": {
    "collapsed": false
   },
   "outputs": [
    {
     "name": "stderr",
     "output_type": "stream",
     "text": [
      "/usr/local/lib/python2.7/dist-packages/ipykernel/__main__.py:19: DataConversionWarning: A column-vector y was passed when a 1d array was expected. Please change the shape of y to (n_samples,), for example using ravel().\n"
     ]
    }
   ],
   "source": [
    "test_clean = fillMissingAges(test_clean)"
   ]
  },
  {
   "cell_type": "code",
   "execution_count": 166,
   "metadata": {
    "collapsed": false
   },
   "outputs": [],
   "source": [
    "train_clean.to_csv('/home/pbnjeff/Dropbox/KaggleAnimalShelter/traincleaned.csv',index=False)\n",
    "test_clean.to_csv('/home/pbnjeff/Dropbox/KaggleAnimalShelter/testcleaned.csv',index=False)"
   ]
  },
  {
   "cell_type": "code",
   "execution_count": 167,
   "metadata": {
    "collapsed": false
   },
   "outputs": [],
   "source": [
    "train_y = pd.DataFrame(train_clean['OutcomeType'])\n",
    "train_X = train_clean.drop(['OutcomeType','AnimalID'],axis=1)\n",
    "test_X = test_clean.drop(['AnimalID','OutcomeType'],axis=1)"
   ]
  },
  {
   "cell_type": "code",
   "execution_count": 170,
   "metadata": {
    "collapsed": false
   },
   "outputs": [
    {
     "data": {
      "text/html": [
       "<div>\n",
       "<table border=\"1\" class=\"dataframe\">\n",
       "  <thead>\n",
       "    <tr style=\"text-align: right;\">\n",
       "      <th></th>\n",
       "      <th>OutcomeType</th>\n",
       "    </tr>\n",
       "  </thead>\n",
       "  <tbody>\n",
       "    <tr>\n",
       "      <th>0</th>\n",
       "      <td>Return_to_owner</td>\n",
       "    </tr>\n",
       "    <tr>\n",
       "      <th>1</th>\n",
       "      <td>Euthanasia</td>\n",
       "    </tr>\n",
       "    <tr>\n",
       "      <th>2</th>\n",
       "      <td>Adoption</td>\n",
       "    </tr>\n",
       "  </tbody>\n",
       "</table>\n",
       "</div>"
      ],
      "text/plain": [
       "       OutcomeType\n",
       "0  Return_to_owner\n",
       "1       Euthanasia\n",
       "2         Adoption"
      ]
     },
     "execution_count": 170,
     "metadata": {},
     "output_type": "execute_result"
    }
   ],
   "source": [
    "train_y.head(3)"
   ]
  },
  {
   "cell_type": "code",
   "execution_count": 169,
   "metadata": {
    "collapsed": false
   },
   "outputs": [
    {
     "data": {
      "text/html": [
       "<div>\n",
       "<table border=\"1\" class=\"dataframe\">\n",
       "  <thead>\n",
       "    <tr style=\"text-align: right;\">\n",
       "      <th></th>\n",
       "      <th>Male</th>\n",
       "      <th>NeuteredSpayed</th>\n",
       "      <th>SexuponOutcomeKnown</th>\n",
       "      <th>Dog</th>\n",
       "      <th>Age (Weeks)</th>\n",
       "      <th>HasName</th>\n",
       "    </tr>\n",
       "  </thead>\n",
       "  <tbody>\n",
       "    <tr>\n",
       "      <th>0</th>\n",
       "      <td>1</td>\n",
       "      <td>1</td>\n",
       "      <td>1</td>\n",
       "      <td>1</td>\n",
       "      <td>52.0</td>\n",
       "      <td>1</td>\n",
       "    </tr>\n",
       "    <tr>\n",
       "      <th>1</th>\n",
       "      <td>0</td>\n",
       "      <td>1</td>\n",
       "      <td>1</td>\n",
       "      <td>0</td>\n",
       "      <td>52.0</td>\n",
       "      <td>1</td>\n",
       "    </tr>\n",
       "    <tr>\n",
       "      <th>2</th>\n",
       "      <td>1</td>\n",
       "      <td>1</td>\n",
       "      <td>1</td>\n",
       "      <td>1</td>\n",
       "      <td>104.0</td>\n",
       "      <td>1</td>\n",
       "    </tr>\n",
       "  </tbody>\n",
       "</table>\n",
       "</div>"
      ],
      "text/plain": [
       "   Male  NeuteredSpayed  SexuponOutcomeKnown  Dog  Age (Weeks)  HasName\n",
       "0     1               1                    1    1         52.0        1\n",
       "1     0               1                    1    0         52.0        1\n",
       "2     1               1                    1    1        104.0        1"
      ]
     },
     "execution_count": 169,
     "metadata": {},
     "output_type": "execute_result"
    }
   ],
   "source": [
    "train_X.head(3)"
   ]
  },
  {
   "cell_type": "code",
   "execution_count": 171,
   "metadata": {
    "collapsed": false
   },
   "outputs": [
    {
     "data": {
      "text/html": [
       "<div>\n",
       "<table border=\"1\" class=\"dataframe\">\n",
       "  <thead>\n",
       "    <tr style=\"text-align: right;\">\n",
       "      <th></th>\n",
       "      <th>Male</th>\n",
       "      <th>NeuteredSpayed</th>\n",
       "      <th>SexuponOutcomeKnown</th>\n",
       "      <th>Dog</th>\n",
       "      <th>Age (Weeks)</th>\n",
       "      <th>HasName</th>\n",
       "    </tr>\n",
       "  </thead>\n",
       "  <tbody>\n",
       "    <tr>\n",
       "      <th>0</th>\n",
       "      <td>0</td>\n",
       "      <td>0</td>\n",
       "      <td>1</td>\n",
       "      <td>1</td>\n",
       "      <td>40.0</td>\n",
       "      <td>1</td>\n",
       "    </tr>\n",
       "    <tr>\n",
       "      <th>1</th>\n",
       "      <td>0</td>\n",
       "      <td>1</td>\n",
       "      <td>1</td>\n",
       "      <td>1</td>\n",
       "      <td>104.0</td>\n",
       "      <td>1</td>\n",
       "    </tr>\n",
       "    <tr>\n",
       "      <th>2</th>\n",
       "      <td>1</td>\n",
       "      <td>1</td>\n",
       "      <td>1</td>\n",
       "      <td>0</td>\n",
       "      <td>52.0</td>\n",
       "      <td>1</td>\n",
       "    </tr>\n",
       "  </tbody>\n",
       "</table>\n",
       "</div>"
      ],
      "text/plain": [
       "   Male  NeuteredSpayed  SexuponOutcomeKnown  Dog  Age (Weeks)  HasName\n",
       "0     0               0                    1    1         40.0        1\n",
       "1     0               1                    1    1        104.0        1\n",
       "2     1               1                    1    0         52.0        1"
      ]
     },
     "execution_count": 171,
     "metadata": {},
     "output_type": "execute_result"
    }
   ],
   "source": [
    "test_X.head(3)"
   ]
  },
  {
   "cell_type": "code",
   "execution_count": 172,
   "metadata": {
    "collapsed": true
   },
   "outputs": [],
   "source": [
    "def createYmatrix(df):\n",
    "    \n",
    "    outcomes = df['OutcomeType'].unique()\n",
    "    \n",
    "    for outcome in outcomes:\n",
    "        df[str(outcome)] = pd.Series(data = [0] * df.shape[0])\n",
    "        df.loc[df['OutcomeType'] == str(outcome), str(outcome)] = 1\n",
    "        \n",
    "    return df.drop('OutcomeType', axis = 1)"
   ]
  },
  {
   "cell_type": "code",
   "execution_count": 173,
   "metadata": {
    "collapsed": true
   },
   "outputs": [],
   "source": [
    "train_y = createYmatrix(train_y)"
   ]
  },
  {
   "cell_type": "markdown",
   "metadata": {},
   "source": [
    "## Using Random Forests to predict"
   ]
  },
  {
   "cell_type": "code",
   "execution_count": 176,
   "metadata": {
    "collapsed": true
   },
   "outputs": [],
   "source": [
    "rf = RandomForestClassifier(n_estimators=250, max_depth=None, min_samples_split=1)"
   ]
  },
  {
   "cell_type": "code",
   "execution_count": 177,
   "metadata": {
    "collapsed": false
   },
   "outputs": [
    {
     "data": {
      "text/plain": [
       "RandomForestClassifier(bootstrap=True, class_weight=None, criterion='gini',\n",
       "            max_depth=None, max_features='auto', max_leaf_nodes=None,\n",
       "            min_samples_leaf=1, min_samples_split=1,\n",
       "            min_weight_fraction_leaf=0.0, n_estimators=250, n_jobs=1,\n",
       "            oob_score=False, random_state=None, verbose=0,\n",
       "            warm_start=False)"
      ]
     },
     "execution_count": 177,
     "metadata": {},
     "output_type": "execute_result"
    }
   ],
   "source": [
    "rf.fit(train_X, train_y)"
   ]
  },
  {
   "cell_type": "code",
   "execution_count": 188,
   "metadata": {
    "collapsed": true
   },
   "outputs": [],
   "source": [
    "predictions = np.array(rf.predict_proba(test_X))"
   ]
  },
  {
   "cell_type": "code",
   "execution_count": 195,
   "metadata": {
    "collapsed": false
   },
   "outputs": [
    {
     "data": {
      "text/plain": [
       "(5, 11456, 2)"
      ]
     },
     "execution_count": 195,
     "metadata": {},
     "output_type": "execute_result"
    }
   ],
   "source": [
    "predictions.shape"
   ]
  },
  {
   "cell_type": "code",
   "execution_count": 224,
   "metadata": {
    "collapsed": false
   },
   "outputs": [
    {
     "name": "stdout",
     "output_type": "stream",
     "text": [
      "0.281526443793\n",
      "0.0277100890159\n",
      "0.53044678435\n",
      "0.15829306776\n",
      "0.00202361508164\n"
     ]
    }
   ],
   "source": [
    "for i in range(5):\n",
    "    print(predictions[i][1][1])"
   ]
  },
  {
   "cell_type": "code",
   "execution_count": 235,
   "metadata": {
    "collapsed": false
   },
   "outputs": [],
   "source": [
    "headers = ['ID','Adoption','Died','Euthanasia','Return_to_owner','Transfer']"
   ]
  },
  {
   "cell_type": "code",
   "execution_count": 236,
   "metadata": {
    "collapsed": true
   },
   "outputs": [],
   "source": [
    "output = pd.DataFrame(columns=headers)"
   ]
  },
  {
   "cell_type": "code",
   "execution_count": 246,
   "metadata": {
    "collapsed": false
   },
   "outputs": [],
   "source": [
    "for i in range(predictions.shape[1]):\n",
    "    \n",
    "    # order should be 2,5,1,0,3\n",
    "    output.loc[i, 'ID'] = test_clean.iloc[i]['AnimalID']\n",
    "    output.loc[i, 'Adoption'] = predictions[2][i][1]\n",
    "    output.loc[i, 'Died'] = predictions[4][i][1]\n",
    "    output.loc[i, 'Euthanasia'] = predictions[1][i][1]\n",
    "    output.loc[i, 'Return_to_owner'] = predictions[0][i][1]\n",
    "    output.loc[i, 'Transfer'] = predictions[3][i][1]"
   ]
  },
  {
   "cell_type": "code",
   "execution_count": 249,
   "metadata": {
    "collapsed": false
   },
   "outputs": [],
   "source": [
    "output.to_csv('/home/pbnjeff/Dropbox/KaggleAnimalShelter/predicted.csv',index=False)"
   ]
  },
  {
   "cell_type": "markdown",
   "metadata": {},
   "source": [
    "## Using TensorFlow to predict"
   ]
  },
  {
   "cell_type": "code",
   "execution_count": 250,
   "metadata": {
    "collapsed": true
   },
   "outputs": [],
   "source": [
    "import tensorflow as tf"
   ]
  },
  {
   "cell_type": "code",
   "execution_count": 255,
   "metadata": {
    "collapsed": true
   },
   "outputs": [],
   "source": [
    "x = tf.placeholder(tf.float32, shape=[None, train_X.shape[1]])"
   ]
  },
  {
   "cell_type": "code",
   "execution_count": 256,
   "metadata": {
    "collapsed": false
   },
   "outputs": [],
   "source": [
    "y_ = tf.placeholder(tf.float32, shape=[None, train_y.shape[1]])"
   ]
  },
  {
   "cell_type": "code",
   "execution_count": 257,
   "metadata": {
    "collapsed": false
   },
   "outputs": [],
   "source": [
    "W = tf.Variable(tf.zeros([train_X.shape[1],train_y.shape[1]]))\n",
    "b = tf.Variable(tf.zeros([train_y.shape[1]]))"
   ]
  },
  {
   "cell_type": "code",
   "execution_count": 258,
   "metadata": {
    "collapsed": true
   },
   "outputs": [],
   "source": [
    "sess.run(tf.initialize_all_variables())"
   ]
  },
  {
   "cell_type": "code",
   "execution_count": 259,
   "metadata": {
    "collapsed": true
   },
   "outputs": [],
   "source": [
    "y = tf.nn.softmax(tf.matmul(x,W) + b)"
   ]
  },
  {
   "cell_type": "code",
   "execution_count": 260,
   "metadata": {
    "collapsed": true
   },
   "outputs": [],
   "source": [
    "cross_entropy = tf.reduce_mean(-tf.reduce_sum(y_ * tf.log(y), reduction_indices=[1]))"
   ]
  },
  {
   "cell_type": "code",
   "execution_count": 261,
   "metadata": {
    "collapsed": true
   },
   "outputs": [],
   "source": [
    "train_step = tf.train.GradientDescentOptimizer(0.25).minimize(cross_entropy)"
   ]
  },
  {
   "cell_type": "code",
   "execution_count": 263,
   "metadata": {
    "collapsed": false
   },
   "outputs": [],
   "source": [
    "start = 0\n",
    "\n",
    "while start < train_X.shape[0]:\n",
    "    end = start + 500\n",
    "    if end > train_X.shape[0]:\n",
    "        end = train_X.shape[0]\n",
    "    batch_x = train_X[start:end]\n",
    "    batch_y = train_y[start:end]\n",
    "    train_step.run(feed_dict={x: batch_x, y_: batch_y})\n",
    "    start += 500"
   ]
  },
  {
   "cell_type": "code",
   "execution_count": 271,
   "metadata": {
    "collapsed": false
   },
   "outputs": [],
   "source": [
    "probabilities = y"
   ]
  },
  {
   "cell_type": "code",
   "execution_count": 272,
   "metadata": {
    "collapsed": false
   },
   "outputs": [
    {
     "name": "stdout",
     "output_type": "stream",
     "text": [
      "[[ nan  nan  nan  nan  nan]\n",
      " [ nan  nan  nan  nan  nan]\n",
      " [ nan  nan  nan  nan  nan]\n",
      " [ nan  nan  nan  nan  nan]\n",
      " [ nan  nan  nan  nan  nan]\n",
      " [ nan  nan  nan  nan  nan]\n",
      " [ nan  nan  nan  nan  nan]\n",
      " [ nan  nan  nan  nan  nan]\n",
      " [ nan  nan  nan  nan  nan]\n",
      " [ nan  nan  nan  nan  nan]\n",
      " [ nan  nan  nan  nan  nan]\n",
      " [ nan  nan  nan  nan  nan]\n",
      " [ nan  nan  nan  nan  nan]\n",
      " [ nan  nan  nan  nan  nan]\n",
      " [ nan  nan  nan  nan  nan]\n",
      " [ nan  nan  nan  nan  nan]\n",
      " [ nan  nan  nan  nan  nan]\n",
      " [ nan  nan  nan  nan  nan]\n",
      " [ nan  nan  nan  nan  nan]\n",
      " [ nan  nan  nan  nan  nan]\n",
      " [ nan  nan  nan  nan  nan]\n",
      " [ nan  nan  nan  nan  nan]\n",
      " [ nan  nan  nan  nan  nan]\n",
      " [ nan  nan  nan  nan  nan]\n",
      " [ nan  nan  nan  nan  nan]\n",
      " [ nan  nan  nan  nan  nan]\n",
      " [ nan  nan  nan  nan  nan]\n",
      " [ nan  nan  nan  nan  nan]\n",
      " [ nan  nan  nan  nan  nan]\n",
      " [ nan  nan  nan  nan  nan]\n",
      " [ nan  nan  nan  nan  nan]\n",
      " [ nan  nan  nan  nan  nan]\n",
      " [ nan  nan  nan  nan  nan]\n",
      " [ nan  nan  nan  nan  nan]\n",
      " [ nan  nan  nan  nan  nan]\n",
      " [ nan  nan  nan  nan  nan]\n",
      " [ nan  nan  nan  nan  nan]\n",
      " [ nan  nan  nan  nan  nan]\n",
      " [ nan  nan  nan  nan  nan]\n",
      " [ nan  nan  nan  nan  nan]\n",
      " [ nan  nan  nan  nan  nan]\n",
      " [ nan  nan  nan  nan  nan]\n",
      " [ nan  nan  nan  nan  nan]\n",
      " [ nan  nan  nan  nan  nan]\n",
      " [ nan  nan  nan  nan  nan]\n",
      " [ nan  nan  nan  nan  nan]\n",
      " [ nan  nan  nan  nan  nan]\n",
      " [ nan  nan  nan  nan  nan]\n",
      " [ nan  nan  nan  nan  nan]\n",
      " [ nan  nan  nan  nan  nan]]\n"
     ]
    }
   ],
   "source": [
    "print(probabilities.eval(feed_dict={x: test_X[50:100]}))"
   ]
  },
  {
   "cell_type": "code",
   "execution_count": 269,
   "metadata": {
    "collapsed": false
   },
   "outputs": [
    {
     "name": "stdout",
     "output_type": "stream",
     "text": [
      "[0 0 0 0 0 0 0 0 0 0 0 0 0 0 0 0 0 0 0 0 0 0 0 0 0 0 0 0 0 0 0 0 0 0 0 0 0\n",
      " 0 0 0 0 0 0 0 0 0 0 0 0 0]\n"
     ]
    }
   ],
   "source": [
    "print(prediction.eval(feed_dict={x: test_X[50:100]}))"
   ]
  },
  {
   "cell_type": "code",
   "execution_count": 308,
   "metadata": {
    "collapsed": false
   },
   "outputs": [],
   "source": [
    "correct_prediction = tf.equal(tf.argmax(y,1), tf.argmax(y_,1))"
   ]
  },
  {
   "cell_type": "code",
   "execution_count": 309,
   "metadata": {
    "collapsed": true
   },
   "outputs": [],
   "source": [
    "accuracy = tf.reduce_mean(tf.cast(correct_prediction, tf.float32))"
   ]
  },
  {
   "cell_type": "code",
   "execution_count": 310,
   "metadata": {
    "collapsed": false
   },
   "outputs": [
    {
     "name": "stdout",
     "output_type": "stream",
     "text": [
      "0.179056\n"
     ]
    }
   ],
   "source": [
    "print(accuracy.eval(feed_dict={x: train_X, y_:train_y}))"
   ]
  },
  {
   "cell_type": "code",
   "execution_count": 311,
   "metadata": {
    "collapsed": false
   },
   "outputs": [],
   "source": [
    "feed_dict = {x: test_X}\n",
    "classification = sess.run(tf.argmax(y,1), feed_dict)"
   ]
  },
  {
   "cell_type": "code",
   "execution_count": 312,
   "metadata": {
    "collapsed": false
   },
   "outputs": [
    {
     "data": {
      "text/plain": [
       "array([0])"
      ]
     },
     "execution_count": 312,
     "metadata": {},
     "output_type": "execute_result"
    }
   ],
   "source": [
    "np.unique(classification)"
   ]
  },
  {
   "cell_type": "markdown",
   "metadata": {},
   "source": [
    "### Output"
   ]
  },
  {
   "cell_type": "code",
   "execution_count": null,
   "metadata": {
    "collapsed": false
   },
   "outputs": [],
   "source": [
    "headers = ['ID','Adoption','Died','Euthanasia','Return_to_owner','Transfer']"
   ]
  },
  {
   "cell_type": "code",
   "execution_count": null,
   "metadata": {
    "collapsed": false
   },
   "outputs": [],
   "source": [
    "output_df = pd.DataFrame(columns=headers)"
   ]
  },
  {
   "cell_type": "code",
   "execution_count": null,
   "metadata": {
    "collapsed": true
   },
   "outputs": [],
   "source": [
    "for outcome in range(predictions.shape[1]): \n",
    "    \n",
    "    new_list = []\n",
    "\n",
    "    for row in range(predictions.shape[0]):\n",
    "        new_list.append(predictions[row][outcome])\n",
    "        \n",
    "    output_df[headers[1+outcome]] = new_list\n",
    "\n"
   ]
  },
  {
   "cell_type": "code",
   "execution_count": null,
   "metadata": {
    "collapsed": false
   },
   "outputs": [],
   "source": [
    "output_df['ID'] = test_cleaned['ID'].astype(int)"
   ]
  },
  {
   "cell_type": "code",
   "execution_count": null,
   "metadata": {
    "collapsed": true
   },
   "outputs": [],
   "source": [
    "output_df.to_csv(folder_path + 'predicted.csv', index=False, encoding='utf-8')"
   ]
  }
 ],
 "metadata": {
  "kernelspec": {
   "display_name": "Python 2",
   "language": "python",
   "name": "python2"
  },
  "language_info": {
   "codemirror_mode": {
    "name": "ipython",
    "version": 2
   },
   "file_extension": ".py",
   "mimetype": "text/x-python",
   "name": "python",
   "nbconvert_exporter": "python",
   "pygments_lexer": "ipython2",
   "version": "2.7.6"
  }
 },
 "nbformat": 4,
 "nbformat_minor": 0
}
