{
 "cells": [
  {
   "cell_type": "code",
   "execution_count": 1,
   "metadata": {
    "collapsed": true
   },
   "outputs": [],
   "source": [
    "%matplotlib inline"
   ]
  },
  {
   "cell_type": "code",
   "execution_count": 2,
   "metadata": {
    "collapsed": true
   },
   "outputs": [],
   "source": [
    "import pandas as pd\n",
    "from matplotlib import pyplot as plt\n",
    "\n",
    "folder_path = \"c:/users/jeff/dropbox/kaggle_animal_shelter/\"\n",
    "train = pd.read_csv(folder_path + \"train.csv\", encoding='utf-8')\n",
    "test = pd.read_csv(folder_path + \"test.csv\", encoding='utf-8')"
   ]
  },
  {
   "cell_type": "code",
   "execution_count": 3,
   "metadata": {
    "collapsed": false
   },
   "outputs": [],
   "source": [
    "df = train.append(test)"
   ]
  },
  {
   "cell_type": "code",
   "execution_count": 4,
   "metadata": {
    "collapsed": false
   },
   "outputs": [],
   "source": [
    "doggies = df[df['AnimalType'] == 'Dog']['Breed'].value_counts().to_frame()"
   ]
  },
  {
   "cell_type": "code",
   "execution_count": 5,
   "metadata": {
    "collapsed": false
   },
   "outputs": [
    {
     "data": {
      "text/html": [
       "<div>\n",
       "<table border=\"1\" class=\"dataframe\">\n",
       "  <thead>\n",
       "    <tr style=\"text-align: right;\">\n",
       "      <th></th>\n",
       "      <th>0</th>\n",
       "    </tr>\n",
       "  </thead>\n",
       "  <tbody>\n",
       "    <tr>\n",
       "      <th>Australian Kelpie Mix</th>\n",
       "      <td>138</td>\n",
       "    </tr>\n",
       "    <tr>\n",
       "      <th>Great Pyrenees Mix</th>\n",
       "      <td>137</td>\n",
       "    </tr>\n",
       "    <tr>\n",
       "      <th>Staffordshire Mix</th>\n",
       "      <td>135</td>\n",
       "    </tr>\n",
       "    <tr>\n",
       "      <th>American Staffordshire Terrier Mix</th>\n",
       "      <td>129</td>\n",
       "    </tr>\n",
       "    <tr>\n",
       "      <th>Pointer Mix</th>\n",
       "      <td>128</td>\n",
       "    </tr>\n",
       "    <tr>\n",
       "      <th>Chihuahua Shorthair</th>\n",
       "      <td>125</td>\n",
       "    </tr>\n",
       "    <tr>\n",
       "      <th>Labrador Retriever</th>\n",
       "      <td>110</td>\n",
       "    </tr>\n",
       "    <tr>\n",
       "      <th>Labrador Retriever/Pit Bull</th>\n",
       "      <td>108</td>\n",
       "    </tr>\n",
       "    <tr>\n",
       "      <th>Plott Hound Mix</th>\n",
       "      <td>108</td>\n",
       "    </tr>\n",
       "    <tr>\n",
       "      <th>Dachshund/Chihuahua Shorthair</th>\n",
       "      <td>104</td>\n",
       "    </tr>\n",
       "    <tr>\n",
       "      <th>Pit Bull</th>\n",
       "      <td>101</td>\n",
       "    </tr>\n",
       "    <tr>\n",
       "      <th>Black Mouth Cur Mix</th>\n",
       "      <td>98</td>\n",
       "    </tr>\n",
       "    <tr>\n",
       "      <th>Miniature Pinscher Mix</th>\n",
       "      <td>98</td>\n",
       "    </tr>\n",
       "    <tr>\n",
       "      <th>Anatol Shepherd Mix</th>\n",
       "      <td>97</td>\n",
       "    </tr>\n",
       "    <tr>\n",
       "      <th>German Shepherd/Labrador Retriever</th>\n",
       "      <td>95</td>\n",
       "    </tr>\n",
       "    <tr>\n",
       "      <th>German Shepherd</th>\n",
       "      <td>95</td>\n",
       "    </tr>\n",
       "    <tr>\n",
       "      <th>American Pit Bull Terrier Mix</th>\n",
       "      <td>94</td>\n",
       "    </tr>\n",
       "    <tr>\n",
       "      <th>Golden Retriever Mix</th>\n",
       "      <td>88</td>\n",
       "    </tr>\n",
       "    <tr>\n",
       "      <th>Labrador Retriever/German Shepherd</th>\n",
       "      <td>81</td>\n",
       "    </tr>\n",
       "    <tr>\n",
       "      <th>Chow Chow Mix</th>\n",
       "      <td>76</td>\n",
       "    </tr>\n",
       "    <tr>\n",
       "      <th>Shih Tzu</th>\n",
       "      <td>75</td>\n",
       "    </tr>\n",
       "    <tr>\n",
       "      <th>Queensland Heeler Mix</th>\n",
       "      <td>75</td>\n",
       "    </tr>\n",
       "    <tr>\n",
       "      <th>Cardigan Welsh Corgi Mix</th>\n",
       "      <td>72</td>\n",
       "    </tr>\n",
       "    <tr>\n",
       "      <th>Maltese Mix</th>\n",
       "      <td>71</td>\n",
       "    </tr>\n",
       "    <tr>\n",
       "      <th>Dachshund</th>\n",
       "      <td>70</td>\n",
       "    </tr>\n",
       "    <tr>\n",
       "      <th>Pug Mix</th>\n",
       "      <td>66</td>\n",
       "    </tr>\n",
       "    <tr>\n",
       "      <th>Manchester Terrier Mix</th>\n",
       "      <td>61</td>\n",
       "    </tr>\n",
       "    <tr>\n",
       "      <th>Lhasa Apso Mix</th>\n",
       "      <td>61</td>\n",
       "    </tr>\n",
       "    <tr>\n",
       "      <th>Pomeranian Mix</th>\n",
       "      <td>61</td>\n",
       "    </tr>\n",
       "    <tr>\n",
       "      <th>Doberman Pinsch Mix</th>\n",
       "      <td>59</td>\n",
       "    </tr>\n",
       "    <tr>\n",
       "      <th>...</th>\n",
       "      <td>...</td>\n",
       "    </tr>\n",
       "    <tr>\n",
       "      <th>Cocker Spaniel/Chihuahua Longhair</th>\n",
       "      <td>1</td>\n",
       "    </tr>\n",
       "    <tr>\n",
       "      <th>Bull Terrier/Jack Russell Terrier</th>\n",
       "      <td>1</td>\n",
       "    </tr>\n",
       "    <tr>\n",
       "      <th>Dalmatian/Pointer</th>\n",
       "      <td>1</td>\n",
       "    </tr>\n",
       "    <tr>\n",
       "      <th>Dalmatian/Australian Cattle Dog</th>\n",
       "      <td>1</td>\n",
       "    </tr>\n",
       "    <tr>\n",
       "      <th>Jack Russell Terrier/Maltese</th>\n",
       "      <td>1</td>\n",
       "    </tr>\n",
       "    <tr>\n",
       "      <th>Beagle/Boston Terrier</th>\n",
       "      <td>1</td>\n",
       "    </tr>\n",
       "    <tr>\n",
       "      <th>Keeshond</th>\n",
       "      <td>1</td>\n",
       "    </tr>\n",
       "    <tr>\n",
       "      <th>Cardigan Welsh Corgi/English Setter</th>\n",
       "      <td>1</td>\n",
       "    </tr>\n",
       "    <tr>\n",
       "      <th>Chihuahua Longhair/Cocker Spaniel</th>\n",
       "      <td>1</td>\n",
       "    </tr>\n",
       "    <tr>\n",
       "      <th>Australian Cattle Dog/Queensland Heeler</th>\n",
       "      <td>1</td>\n",
       "    </tr>\n",
       "    <tr>\n",
       "      <th>Maltese/Border Terrier</th>\n",
       "      <td>1</td>\n",
       "    </tr>\n",
       "    <tr>\n",
       "      <th>St. Bernard Rough Coat</th>\n",
       "      <td>1</td>\n",
       "    </tr>\n",
       "    <tr>\n",
       "      <th>Scottish Terrier/Miniature Poodle</th>\n",
       "      <td>1</td>\n",
       "    </tr>\n",
       "    <tr>\n",
       "      <th>Chihuahua Shorthair/Finnish Spitz</th>\n",
       "      <td>1</td>\n",
       "    </tr>\n",
       "    <tr>\n",
       "      <th>Boston Terrier/Pembroke Welsh Corgi</th>\n",
       "      <td>1</td>\n",
       "    </tr>\n",
       "    <tr>\n",
       "      <th>Border Terrier/Dachshund Wirehair</th>\n",
       "      <td>1</td>\n",
       "    </tr>\n",
       "    <tr>\n",
       "      <th>Boston Terrier/Pit Bull</th>\n",
       "      <td>1</td>\n",
       "    </tr>\n",
       "    <tr>\n",
       "      <th>Border Collie/American Staffordshire Terrier</th>\n",
       "      <td>1</td>\n",
       "    </tr>\n",
       "    <tr>\n",
       "      <th>Collie Smooth/Siberian Husky</th>\n",
       "      <td>1</td>\n",
       "    </tr>\n",
       "    <tr>\n",
       "      <th>Dogue De Bordeaux/American Bulldog</th>\n",
       "      <td>1</td>\n",
       "    </tr>\n",
       "    <tr>\n",
       "      <th>Rhod Ridgeback/Mastiff</th>\n",
       "      <td>1</td>\n",
       "    </tr>\n",
       "    <tr>\n",
       "      <th>Australian Shepherd/Collie Rough</th>\n",
       "      <td>1</td>\n",
       "    </tr>\n",
       "    <tr>\n",
       "      <th>Norfolk Terrier/Dachshund</th>\n",
       "      <td>1</td>\n",
       "    </tr>\n",
       "    <tr>\n",
       "      <th>Golden Retriever/Whippet</th>\n",
       "      <td>1</td>\n",
       "    </tr>\n",
       "    <tr>\n",
       "      <th>Beagle/Vizsla</th>\n",
       "      <td>1</td>\n",
       "    </tr>\n",
       "    <tr>\n",
       "      <th>Chihuahua Shorthair/Shetland Sheepdog</th>\n",
       "      <td>1</td>\n",
       "    </tr>\n",
       "    <tr>\n",
       "      <th>Vizsla/Boxer</th>\n",
       "      <td>1</td>\n",
       "    </tr>\n",
       "    <tr>\n",
       "      <th>Plott Hound/Mastiff</th>\n",
       "      <td>1</td>\n",
       "    </tr>\n",
       "    <tr>\n",
       "      <th>Chihuahua Shorthair/Parson Russell Terrier</th>\n",
       "      <td>1</td>\n",
       "    </tr>\n",
       "    <tr>\n",
       "      <th>Dachshund/Cavalier Span</th>\n",
       "      <td>1</td>\n",
       "    </tr>\n",
       "  </tbody>\n",
       "</table>\n",
       "<p>1585 rows × 1 columns</p>\n",
       "</div>"
      ],
      "text/plain": [
       "                                                0\n",
       "Australian Kelpie Mix                         138\n",
       "Great Pyrenees Mix                            137\n",
       "Staffordshire Mix                             135\n",
       "American Staffordshire Terrier Mix            129\n",
       "Pointer Mix                                   128\n",
       "Chihuahua Shorthair                           125\n",
       "Labrador Retriever                            110\n",
       "Labrador Retriever/Pit Bull                   108\n",
       "Plott Hound Mix                               108\n",
       "Dachshund/Chihuahua Shorthair                 104\n",
       "Pit Bull                                      101\n",
       "Black Mouth Cur Mix                            98\n",
       "Miniature Pinscher Mix                         98\n",
       "Anatol Shepherd Mix                            97\n",
       "German Shepherd/Labrador Retriever             95\n",
       "German Shepherd                                95\n",
       "American Pit Bull Terrier Mix                  94\n",
       "Golden Retriever Mix                           88\n",
       "Labrador Retriever/German Shepherd             81\n",
       "Chow Chow Mix                                  76\n",
       "Shih Tzu                                       75\n",
       "Queensland Heeler Mix                          75\n",
       "Cardigan Welsh Corgi Mix                       72\n",
       "Maltese Mix                                    71\n",
       "Dachshund                                      70\n",
       "Pug Mix                                        66\n",
       "Manchester Terrier Mix                         61\n",
       "Lhasa Apso Mix                                 61\n",
       "Pomeranian Mix                                 61\n",
       "Doberman Pinsch Mix                            59\n",
       "...                                           ...\n",
       "Cocker Spaniel/Chihuahua Longhair               1\n",
       "Bull Terrier/Jack Russell Terrier               1\n",
       "Dalmatian/Pointer                               1\n",
       "Dalmatian/Australian Cattle Dog                 1\n",
       "Jack Russell Terrier/Maltese                    1\n",
       "Beagle/Boston Terrier                           1\n",
       "Keeshond                                        1\n",
       "Cardigan Welsh Corgi/English Setter             1\n",
       "Chihuahua Longhair/Cocker Spaniel               1\n",
       "Australian Cattle Dog/Queensland Heeler         1\n",
       "Maltese/Border Terrier                          1\n",
       "St. Bernard Rough Coat                          1\n",
       "Scottish Terrier/Miniature Poodle               1\n",
       "Chihuahua Shorthair/Finnish Spitz               1\n",
       "Boston Terrier/Pembroke Welsh Corgi             1\n",
       "Border Terrier/Dachshund Wirehair               1\n",
       "Boston Terrier/Pit Bull                         1\n",
       "Border Collie/American Staffordshire Terrier    1\n",
       "Collie Smooth/Siberian Husky                    1\n",
       "Dogue De Bordeaux/American Bulldog              1\n",
       "Rhod Ridgeback/Mastiff                          1\n",
       "Australian Shepherd/Collie Rough                1\n",
       "Norfolk Terrier/Dachshund                       1\n",
       "Golden Retriever/Whippet                        1\n",
       "Beagle/Vizsla                                   1\n",
       "Chihuahua Shorthair/Shetland Sheepdog           1\n",
       "Vizsla/Boxer                                    1\n",
       "Plott Hound/Mastiff                             1\n",
       "Chihuahua Shorthair/Parson Russell Terrier      1\n",
       "Dachshund/Cavalier Span                         1\n",
       "\n",
       "[1585 rows x 1 columns]"
      ]
     },
     "execution_count": 5,
     "metadata": {},
     "output_type": "execute_result"
    }
   ],
   "source": [
    "doggies[doggies[0L].astype(int) < 150]"
   ]
  },
  {
   "cell_type": "code",
   "execution_count": 6,
   "metadata": {
    "collapsed": true
   },
   "outputs": [],
   "source": [
    "kitties = df[df['AnimalType'] == 'Cat']['Breed'].value_counts().to_frame()"
   ]
  },
  {
   "cell_type": "code",
   "execution_count": 7,
   "metadata": {
    "collapsed": false
   },
   "outputs": [
    {
     "ename": "SyntaxError",
     "evalue": "invalid syntax (<ipython-input-7-bd8f172c02cb>, line 1)",
     "output_type": "error",
     "traceback": [
      "\u001b[1;36m  File \u001b[1;32m\"<ipython-input-7-bd8f172c02cb>\"\u001b[1;36m, line \u001b[1;32m1\u001b[0m\n\u001b[1;33m    kitties[kitties[0L].astype(int) < ]\u001b[0m\n\u001b[1;37m                                      ^\u001b[0m\n\u001b[1;31mSyntaxError\u001b[0m\u001b[1;31m:\u001b[0m invalid syntax\n"
     ]
    }
   ],
   "source": [
    "kitties[kitties[0L].astype(int) < ]"
   ]
  },
  {
   "cell_type": "code",
   "execution_count": 9,
   "metadata": {
    "collapsed": true
   },
   "outputs": [],
   "source": [
    "names = df[~df['Name'].isnull()]['Name'].value_counts().to_frame()"
   ]
  },
  {
   "cell_type": "code",
   "execution_count": 11,
   "metadata": {
    "collapsed": false
   },
   "outputs": [],
   "source": [
    "names_a = df[~df['Name'].isnull()]"
   ]
  },
  {
   "cell_type": "code",
   "execution_count": 26,
   "metadata": {
    "collapsed": false
   },
   "outputs": [],
   "source": [
    "names['Rarity'] = pd.Series()\n",
    "        "
   ]
  },
  {
   "cell_type": "code",
   "execution_count": 29,
   "metadata": {
    "collapsed": false
   },
   "outputs": [],
   "source": [
    "names.loc[names[0L].astype(float) / names_a.shape[0] > 0.005,'Rarity'] = 0"
   ]
  },
  {
   "cell_type": "code",
   "execution_count": 31,
   "metadata": {
    "collapsed": false
   },
   "outputs": [],
   "source": [
    "names.loc[(names[0L].astype(float) / names_a.shape[0] <= 0.005) &\n",
    "          names[0L].astype(float) / names_a.shape[0] > 0.001,'Rarity'] = 1\n",
    "names.loc[names[0L].astype(float) / names_a.shape[0] <= 0.001,'Rarity'] = 2"
   ]
  },
  {
   "cell_type": "code",
   "execution_count": 37,
   "metadata": {
    "collapsed": false
   },
   "outputs": [],
   "source": [
    "names_list = names.index\n",
    "df['Common'] = pd.Series()\n",
    "df['Uncommon'] = pd.Series()\n",
    "df['Rare'] = pd.Series()"
   ]
  },
  {
   "cell_type": "code",
   "execution_count": 41,
   "metadata": {
    "collapsed": false
   },
   "outputs": [],
   "source": [
    "df.loc[df['Name'].isnull(),'Common'] = True\n",
    "df.loc[df['Name'].isnull(),'Uncommon'] = True\n",
    "df.loc[df['Name'].isnull(),'Rare'] = True"
   ]
  },
  {
   "cell_type": "code",
   "execution_count": 52,
   "metadata": {
    "collapsed": false
   },
   "outputs": [],
   "source": [
    "for name in names_list:\n",
    "    if names['Rarity'][name] == 0:\n",
    "        df.loc[df['Name'] == name,'Common'] = True\n",
    "        df.loc[df['Name'] == name,'Uncommon'] = False\n",
    "        df.loc[df['Name'] == name,'Rare'] = False\n",
    "    elif names['Rarity'][name] == 1:\n",
    "        df.loc[df['Name'] == name,'Common'] = False\n",
    "        df.loc[df['Name'] == name,'Uncommon'] = True\n",
    "        df.loc[df['Name'] == name,'Rare'] = False\n",
    "    else:\n",
    "        df.loc[df['Name'] == name,'Common'] = False\n",
    "        df.loc[df['Name'] == name,'Uncommon'] = False\n",
    "        df.loc[df['Name'] == name,'Rare'] = True"
   ]
  },
  {
   "cell_type": "code",
   "execution_count": 47,
   "metadata": {
    "collapsed": false
   },
   "outputs": [
    {
     "data": {
      "text/plain": [
       "Bella          0\n",
       "Max            0\n",
       "Charlie        0\n",
       "Daisy          0\n",
       "Lucy           1\n",
       "Princess       1\n",
       "Rocky          1\n",
       "Buddy          1\n",
       "Luna           1\n",
       "Jack           1\n",
       "Lola           1\n",
       "Coco           1\n",
       "Sadie          1\n",
       "Molly          1\n",
       "Lucky          1\n",
       "Blue           1\n",
       "Shadow         1\n",
       "Oreo           1\n",
       "Lily           1\n",
       "Toby           1\n",
       "Maggie         1\n",
       "Chico          1\n",
       "Duke           1\n",
       "Cookie         1\n",
       "Ginger         1\n",
       "Leo            1\n",
       "Sophie         1\n",
       "Milo           1\n",
       "Lady           1\n",
       "Marley         1\n",
       "              ..\n",
       "Roy Jones      2\n",
       "Sheridan       2\n",
       "Mr Puppy       2\n",
       "Piru           2\n",
       "Trax           2\n",
       "Holton         2\n",
       "Wubbins        2\n",
       "Mcallister     2\n",
       "Spreckles      2\n",
       "Marbelle       2\n",
       "Rutter         2\n",
       "Pac            2\n",
       "Pan            2\n",
       "Cota           2\n",
       "Daise          2\n",
       "Elda           2\n",
       "Tinnie         2\n",
       "Chupychu       2\n",
       "Brown Dog      2\n",
       "Lemur          2\n",
       "Marky Mark     2\n",
       "Boly           2\n",
       "Sohpie Jean    2\n",
       "Fefe           2\n",
       "Meggy          2\n",
       "Kambei         2\n",
       "Glo            2\n",
       "Santa          2\n",
       "Yugi           2\n",
       "Sumi           2\n",
       "Name: Rarity, dtype: float64"
      ]
     },
     "execution_count": 47,
     "metadata": {},
     "output_type": "execute_result"
    }
   ],
   "source": []
  },
  {
   "cell_type": "code",
   "execution_count": null,
   "metadata": {
    "collapsed": true
   },
   "outputs": [],
   "source": []
  },
  {
   "cell_type": "code",
   "execution_count": null,
   "metadata": {
    "collapsed": true
   },
   "outputs": [],
   "source": []
  },
  {
   "cell_type": "code",
   "execution_count": null,
   "metadata": {
    "collapsed": false
   },
   "outputs": [],
   "source": [
    "for i in names.index:\n",
    "    df.loc[df['Name'] == i,'Common'] = names['Common'][i]\n",
    "    df.loc[df['Name'] == i,'Uncommon'] = names['Uncommon'][i]\n",
    "    df.loc[df['Name'] == i,'Rare'] = names['Rare'][i]\n",
    "    print i"
   ]
  },
  {
   "cell_type": "code",
   "execution_count": null,
   "metadata": {
    "collapsed": false
   },
   "outputs": [],
   "source": [
    "names"
   ]
  },
  {
   "cell_type": "code",
   "execution_count": null,
   "metadata": {
    "collapsed": true
   },
   "outputs": [],
   "source": []
  },
  {
   "cell_type": "code",
   "execution_count": null,
   "metadata": {
    "collapsed": true
   },
   "outputs": [],
   "source": []
  },
  {
   "cell_type": "code",
   "execution_count": null,
   "metadata": {
    "collapsed": true
   },
   "outputs": [],
   "source": []
  },
  {
   "cell_type": "code",
   "execution_count": null,
   "metadata": {
    "collapsed": true
   },
   "outputs": [],
   "source": []
  },
  {
   "cell_type": "code",
   "execution_count": null,
   "metadata": {
    "collapsed": false
   },
   "outputs": [],
   "source": [
    "df_died = df[df['OutcomeType'] == 'Died'].drop('OutcomeType',axis=1)\n",
    "df_died = df_died.reset_index().drop('index', axis = 1)\n",
    "df_died_counts = df_died['OutcomeSubtype'].value_counts().to_frame()\n",
    "df_died_counts = df_died_counts.rename(columns={0L: \"Frequency\"})\n",
    "df_died_counts.insert(0, 'Name', df_died_counts.index)\n",
    "df_died_counts.reset_index().drop('index', axis=1)\n",
    "\n",
    "plt.figure()\n",
    "df_died_counts.plot(kind='bar')"
   ]
  },
  {
   "cell_type": "code",
   "execution_count": null,
   "metadata": {
    "collapsed": false
   },
   "outputs": [],
   "source": [
    "df_adopted = df[df['OutcomeType'] == 'Adoption'].drop('OutcomeType', axis=1)\n",
    "df_adopted = df_adopted.reset_index().drop('index', axis=1)\n",
    "df_adopted_counts = df_adopted['OutcomeSubtype'].value_counts().to_frame()\n",
    "df_adopted_counts = df_adopted_counts.rename(columns={0L: 'Frequency'})\n",
    "df_adopted_counts.insert(0, 'Name', df_adopted_counts.index)\n",
    "df_adopted_counts.reset_index().drop('index', axis=1)\n",
    "\n",
    "plt.figure()\n",
    "df_adopted_counts.plot(kind='bar')"
   ]
  },
  {
   "cell_type": "code",
   "execution_count": null,
   "metadata": {
    "collapsed": false
   },
   "outputs": [],
   "source": [
    "df_euthanized = df[df['OutcomeType'] == 'Euthanasia'].drop('OutcomeType', axis=1)\n",
    "df_euthanized = df_euthanized.reset_index().drop('index', axis=1)\n",
    "df_euthanized_counts = df_euthanized['OutcomeSubtype'].value_counts().to_frame()\n",
    "df_euthanized_counts = df_euthanized_counts.rename(columns={0L: 'Frequency'})\n",
    "df_euthanized_counts.insert(0, 'Name', df_euthanized_counts.index)\n",
    "df_euthanized_counts.reset_index().drop('index', axis=1)\n",
    "\n",
    "plt.figure()\n",
    "df_euthanized_counts.plot(kind='bar')"
   ]
  },
  {
   "cell_type": "code",
   "execution_count": null,
   "metadata": {
    "collapsed": false
   },
   "outputs": [],
   "source": [
    "df_transferred = df[df['OutcomeType'] == 'Transfer'].drop('OutcomeType', axis=1)\n",
    "df_transferred = df_transferred.reset_index().drop('index', axis=1)\n",
    "df_transferred_counts = df_transferred['OutcomeSubtype'].value_counts().to_frame()\n",
    "df_transferred_counts = df_transferred_counts.rename(columns={0L: 'Frequency'})\n",
    "df_transferred_counts.insert(0, 'Name', df_transferred_counts.index)\n",
    "df_transferred_counts.reset_index().drop('index', axis=1)\n",
    "\n",
    "plt.figure()\n",
    "df_transferred_counts.plot(kind='bar')"
   ]
  },
  {
   "cell_type": "markdown",
   "metadata": {},
   "source": [
    "Not too much to say here yet. What would be interesting to see is if there are correlations with the breed or color for the most frequently appearing items in each of the Outcome Types.\n",
    "\n",
    "The things I could think to do here is to explore the following:\n",
    "\n",
    "1) Died Outcome: Which breeds die in the kennel or at a foster home? That could indicate the less popular breeds or perhaps the breeds that tend to have diseases. This data could be used to formulate a plan to limit the births of those breeds, which in turn would minimize the number of those left in the shelters.\n",
    "\n",
    "2) Adoption Outcome: There's nothing that stands out to me here. The Foster Subtype seems to mean that the animal ended up in foster care or was in foster care but is now adopted by some other party (there isn't any information on what exactly this means).\n",
    "\n",
    "3) Euthanasia Outcome: It seems pretty typical that we would want to minimize the time of suffering for an animal, so suffering is a pretty commonly cited reason. I could take a look at the age of the animals that are in the Suffering Subtype to see if there is a trend there, and what I would expect is that the number of animals that are suffering are on the older end of the age spectrum. Aggression is another common reason for euthanasia, and it would be of interest to see which of the breeds tend to be that way.\n",
    "\n",
    "4) Transfer Outcome: Nothing too interesting here, but I had to look up what SCRP is (it means \"Stray Cat Return Program\"). This is one of the more \"boring\" categories of types, and I'd guess this category would be one of the harder ones to predict for. I would probably guess that there is a more uniform mixture of animals breeds and colors and ages that would fall underneath this. \n",
    "\n",
    "For now, though, I will attempt to use Random Forests in the Python SciKit-Learn. [cite]"
   ]
  },
  {
   "cell_type": "code",
   "execution_count": null,
   "metadata": {
    "collapsed": true
   },
   "outputs": [],
   "source": [
    "df = pd.read_csv(folder_path + \"train.csv\", encoding='utf-8')"
   ]
  },
  {
   "cell_type": "code",
   "execution_count": null,
   "metadata": {
    "collapsed": true
   },
   "outputs": [],
   "source": []
  },
  {
   "cell_type": "code",
   "execution_count": null,
   "metadata": {
    "collapsed": true
   },
   "outputs": [],
   "source": []
  },
  {
   "cell_type": "code",
   "execution_count": null,
   "metadata": {
    "collapsed": true
   },
   "outputs": [],
   "source": []
  },
  {
   "cell_type": "code",
   "execution_count": null,
   "metadata": {
    "collapsed": true
   },
   "outputs": [],
   "source": []
  },
  {
   "cell_type": "code",
   "execution_count": null,
   "metadata": {
    "collapsed": true
   },
   "outputs": [],
   "source": []
  },
  {
   "cell_type": "code",
   "execution_count": null,
   "metadata": {
    "collapsed": true
   },
   "outputs": [],
   "source": []
  },
  {
   "cell_type": "code",
   "execution_count": null,
   "metadata": {
    "collapsed": true
   },
   "outputs": [],
   "source": []
  },
  {
   "cell_type": "code",
   "execution_count": null,
   "metadata": {
    "collapsed": true
   },
   "outputs": [],
   "source": []
  }
 ],
 "metadata": {
  "kernelspec": {
   "display_name": "Python 2",
   "language": "python",
   "name": "python2"
  },
  "language_info": {
   "codemirror_mode": {
    "name": "ipython",
    "version": 2
   },
   "file_extension": ".py",
   "mimetype": "text/x-python",
   "name": "python",
   "nbconvert_exporter": "python",
   "pygments_lexer": "ipython2",
   "version": "2.7.10"
  }
 },
 "nbformat": 4,
 "nbformat_minor": 0
}
